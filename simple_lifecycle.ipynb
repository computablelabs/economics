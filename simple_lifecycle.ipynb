{
 "cells": [
  {
   "cell_type": "markdown",
   "metadata": {},
   "source": [
    "Let's start by setting up some simulation parameters for the market. We'll do calculations in WEI to keep close to the original code. We will convert to ETH as necessary. As a preliminary step, let's define some market constants"
   ]
  },
  {
   "cell_type": "code",
   "execution_count": 21,
   "metadata": {},
   "outputs": [],
   "source": [
    "WEI = 1\n",
    "GWEI = 10**9\n",
    "WHOLE = 10**18\n",
    "\n",
    "def wei_to_whole(amount):\n",
    "    return amount // 10**18\n",
    "\n",
    "def gwei_to_whole(amount):\n",
    "    return amount // 10**9\n",
    "\n",
    "def gwei_to_wei(amount):\n",
    "    return amount * 10**9\n",
    "\n",
    "def wei_to_gwei(amount):\n",
    "    return amount // 10**9\n",
    "\n",
    "def convert_investment_price(price):\n",
    "    \"\"\"Investment price is ETH wei / MKT gwei. Convert to ETH whole / MKT whole\"\"\"\n",
    "    # ETH gwei / MKT gwei\n",
    "    price_gwei_to_gwei = wei_to_gwei(price)\n",
    "    # Note units cancel\n",
    "    price_whole_to_whole = price_gwei_to_gwei\n",
    "    return price_whole_to_whole"
   ]
  },
  {
   "cell_type": "markdown",
   "metadata": {},
   "source": [
    "Here are the marke.t parmeters. The rest of the notebook is designed so that if you change these parameters, the rest of the notebook should execute correctly"
   ]
  },
  {
   "cell_type": "code",
   "execution_count": 22,
   "metadata": {},
   "outputs": [],
   "source": [
    "PRICE_FLOOR = .001 * GWEI\n",
    "SPREAD = 110 # 10 %\n",
    "LIST_REWARD = .000025 * WHOLE # MKT\n",
    "STAKE = .01 * WHOLE # MKT\n",
    "VOTE_BY = 7 # Days. Are units right?\n",
    "BACKEND_PAYMENT = .25\n",
    "MAKER_PAYMENT = .25\n",
    "RESERVE_PAYMENT = 1 - BACKEND_PAYMENT - MAKER_PAYMENT\n",
    "COST_PER_BYTE = 100 * GWEI # ETH"
   ]
  },
  {
   "cell_type": "markdown",
   "metadata": {},
   "source": [
    "Let's have the market creator create the initial data market."
   ]
  },
  {
   "cell_type": "code",
   "execution_count": 23,
   "metadata": {},
   "outputs": [
    {
     "name": "stdout",
     "output_type": "stream",
     "text": [
      "MARKET_TOTAL: 1, RESERVE: 100\n"
     ]
    }
   ],
   "source": [
    "RESERVE = 0 # Initial reserve is empty\n",
    "MARKET_TOTAL = 0 # No Market tokens at start\n",
    "\n",
    "# Creator does their thing\n",
    "CREATOR_BLOCK_SIZE = 1 * WHOLE # MKT\n",
    "MARKET_TOTAL += CREATOR_BLOCK_SIZE\n",
    "# Creator deposits 100 ETH in reserve\n",
    "RESERVE += 100 * WHOLE # ETH\n",
    "print(\"MARKET_TOTAL: %d, RESERVE: %d\" % (wei_to_whole(MARKET_TOTAL), wei_to_whole(RESERVE)))"
   ]
  },
  {
   "cell_type": "markdown",
   "metadata": {},
   "source": [
    "Now some investors join the market."
   ]
  },
  {
   "cell_type": "code",
   "execution_count": 28,
   "metadata": {},
   "outputs": [
    {
     "name": "stdout",
     "output_type": "stream",
     "text": [
      "100000000000000000000\n",
      "INVESTMENT: 100\n",
      "INVESTMENT_PRICE (ETH wei for 1 MKT gwei): 1000000\n",
      "INVESTMENT_PRICE (ETH whole for 1 MKT whole): 0\n",
      "99999999816652.0\n",
      "9.9999999816652e+22\n",
      "MINTED: 99999\n",
      "MINTED: 99999, MARKET_TOTAL: 399976713984291, RESERVE: 600\n"
     ]
    }
   ],
   "source": [
    "INVESTMENT = 100 * WHOLE # ETH\n",
    "print(\"INVESTMENT: %d\" % wei_to_whole(INVESTMENT))\n",
    "INVESTMENT_PRICE = PRICE_FLOOR + ((SPREAD * RESERVE * GWEI) / (100 * MARKET_TOTAL))\n",
    "print(\"INVESTMENT_PRICE (ETH wei for 1 MKT gwei): %d\" % INVESTMENT_PRICE)\n",
    "print(\"INVESTMENT_PRICE (ETH whole for 1 MKT whole): %d\" % convert_investment_price(INVESTMENT_PRICE))\n",
    "MINTED = (INVESTMENT // INVESTMENT_PRICE) * GWEI # Units of GWEI\n",
    "print(INVESTMENT // INVESTMENT_PRICE)\n",
    "print(MINTED)\n",
    "print(\"MINTED: %d\" % wei_to_whole(MINTED))\n",
    "MARKET_TOTAL += gwei_to_wei(MINTED)\n",
    "RESERVE += INVESTMENT\n",
    "print(\"MINTED: %d, MARKET_TOTAL: %d, RESERVE: %d\" % (wei_to_whole(MINTED), wei_to_whole(MARKET_TOTAL), wei_to_whole(RESERVE)))"
   ]
  }
 ],
 "metadata": {
  "kernelspec": {
   "display_name": "Python 3",
   "language": "python",
   "name": "python3"
  },
  "language_info": {
   "codemirror_mode": {
    "name": "ipython",
    "version": 3
   },
   "file_extension": ".py",
   "mimetype": "text/x-python",
   "name": "python",
   "nbconvert_exporter": "python",
   "pygments_lexer": "ipython3",
   "version": "3.7.1"
  }
 },
 "nbformat": 4,
 "nbformat_minor": 2
}
