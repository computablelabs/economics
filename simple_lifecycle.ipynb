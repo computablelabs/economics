{
 "cells": [
  {
   "cell_type": "markdown",
   "metadata": {},
   "source": [
    "Let's start by setting up some simulation parameters for the market. We'll do calculations in WEI to keep close to the original code. We will convert to ETH as necessary. As a preliminary step, let's define some market constants"
   ]
  },
  {
   "cell_type": "code",
   "execution_count": 2,
   "metadata": {},
   "outputs": [],
   "source": [
    "WEI = 1\n",
    "GWEI = 10**9\n",
    "WHOLE = 10**18"
   ]
  },
  {
   "cell_type": "code",
   "execution_count": null,
   "metadata": {},
   "outputs": [],
   "source": [
    "PRICE_FLOOR = .001 * GWEI\n",
    "SPREAD = 110 # 10 %\n",
    "LIST_REWARD = .000025 * WHOLE # MKT\n",
    "STAKE = .01 * WHOLE # MKT\n",
    "VOTE_BY = 7 # Days. Are units right?\n",
    "BACKEND_PAYMENT = .25\n",
    "MAKER_PAYMENT = .25\n",
    "RESERVE_PAYMENT = 1 - BACKEND_PAYMENT - RESERVE_PAYMENT\n",
    "COST_PER_BYTE = "
   ]
  }
 ],
 "metadata": {
  "kernelspec": {
   "display_name": "Python 3",
   "language": "python",
   "name": "python3"
  },
  "language_info": {
   "codemirror_mode": {
    "name": "ipython",
    "version": 3
   },
   "file_extension": ".py",
   "mimetype": "text/x-python",
   "name": "python",
   "nbconvert_exporter": "python",
   "pygments_lexer": "ipython3",
   "version": "3.7.1"
  }
 },
 "nbformat": 4,
 "nbformat_minor": 2
}
