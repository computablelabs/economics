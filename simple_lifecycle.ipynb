{
 "cells": [
  {
   "cell_type": "code",
   "execution_count": 1,
   "metadata": {},
   "outputs": [],
   "source": [
    "from helpers import toWei, fromWei, Market"
   ]
  },
  {
   "cell_type": "markdown",
   "metadata": {},
   "source": [
    "Here are the market parameters. The rest of the notebook is designed so that if you change these parameters, the rest of the notebook should execute correctly"
   ]
  },
  {
   "cell_type": "code",
   "execution_count": 2,
   "metadata": {},
   "outputs": [],
   "source": [
    "params = {\n",
    "    'price_floor_human':    0.05, # ETH per CMT\n",
    "    'spread':               200,\n",
    "    'list_reward':          toWei(1, 'CMT'),\n",
    "    'stake':                toWei(10, 'CMT'),\n",
    "    'backend_payment':      5, # percent\n",
    "    'maker_payment':        25, # percent\n",
    "    # reserve payment:      100 - backend_payment - maker_payment\n",
    "    'cost_per_byte':        toWei(1e-8, 'ETH'), # 1 ETH for 100MB\n",
    "}\n",
    "\n",
    "CREATOR_BLOCK_SIZE =       toWei(2e3, 'CMT')\n",
    "CREATOR_INITIAL_SUPPORT =  toWei(100, 'ETH')"
   ]
  },
  {
   "cell_type": "markdown",
   "metadata": {},
   "source": [
    "Create market and initialize"
   ]
  },
  {
   "cell_type": "code",
   "execution_count": 3,
   "metadata": {},
   "outputs": [],
   "source": [
    "# Convert human readable floor to units used by market codebase\n",
    "params['price_floor'] = int(params['price_floor_human'] * 1e9) # wei per billion CMT-wei\n",
    "params['reserve_payment'] = 100 - params['backend_payment'] - params['maker_payment']\n",
    "\n",
    "m = Market(params)\n",
    "\n",
    "m.market_total += CREATOR_BLOCK_SIZE\n",
    "m.reserve += CREATOR_INITIAL_SUPPORT "
   ]
  },
  {
   "cell_type": "markdown",
   "metadata": {},
   "source": [
    "Let's run a simple scenario"
   ]
  },
  {
   "cell_type": "code",
   "execution_count": 5,
   "metadata": {},
   "outputs": [
    {
     "name": "stdout",
     "output_type": "stream",
     "text": [
      "2000.0 CMT\n",
      "100.0 ETH\n",
      "Support at 0.15 ETH per CMT\n",
      "Withdraw at 0.05 ETH per CMT\n",
      "\n",
      "5220.8 CMT\n",
      "1100.0 ETH\n",
      "Support at 0.4714 ETH per CMT\n",
      "Withdraw at 0.2107 ETH per CMT\n",
      "\n",
      "120.8 CMT\n",
      "25.4 ETH\n",
      "Support at 0.4714 ETH per CMT\n",
      "Withdraw at 0.2107 ETH per CMT\n",
      "\n"
     ]
    }
   ],
   "source": [
    "m.log()\n",
    "for i in range(1000):\n",
    "    m.support(1.0)\n",
    "\n",
    "m.log()\n",
    "for i in range(510):\n",
    "    m.withdraw(10)\n",
    "m.log()"
   ]
  }
 ],
 "metadata": {
  "kernelspec": {
   "display_name": "Python 3",
   "language": "python",
   "name": "python3"
  },
  "language_info": {
   "codemirror_mode": {
    "name": "ipython",
    "version": 3
   },
   "file_extension": ".py",
   "mimetype": "text/x-python",
   "name": "python",
   "nbconvert_exporter": "python",
   "pygments_lexer": "ipython3",
   "version": "3.7.2"
  }
 },
 "nbformat": 4,
 "nbformat_minor": 2
}
