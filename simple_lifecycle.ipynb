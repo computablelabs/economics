{
 "cells": [
  {
   "cell_type": "markdown",
   "metadata": {},
   "source": [
    "Let's start by setting up some simulation parameters and functions. We'll do calculations in WEI to keep close to the original code. We will convert to ETH as necessary. As a preliminary step, let's define some market constants"
   ]
  },
  {
   "cell_type": "code",
   "execution_count": 1,
   "metadata": {},
   "outputs": [],
   "source": [
    "unitMap = {\n",
    "    'wei':          1,\n",
    "    'mwei':         1e6,\n",
    "    'gwei':         1e9,\n",
    "    'szabo':        1e12,\n",
    "    'finney':       1e15,\n",
    "    'ETH':          1e18,\n",
    "    'CMT':          1e18\n",
    "}\n",
    "\n",
    "def toWei(x, units):\n",
    "    return x * unitMap[units]\n",
    "\n",
    "def fromWei(x, units):\n",
    "    return x / unitMap[units]"
   ]
  },
  {
   "cell_type": "markdown",
   "metadata": {},
   "source": [
    "Here are the market parameters. The rest of the notebook is designed so that if you change these parameters, the rest of the notebook should execute correctly"
   ]
  },
  {
   "cell_type": "code",
   "execution_count": 2,
   "metadata": {},
   "outputs": [],
   "source": [
    "PRICE_FLOOR_HUMAN =        0.01 # ETH per CMT\n",
    "SPREAD =                   110 # 10 %\n",
    "LIST_REWARD =              toWei(1, 'CMT')\n",
    "STAKE =                    toWei(10, 'CMT')\n",
    "# VOTE_BY =                24*3600 # 24 hours.\n",
    "BACKEND_PAYMENT =          5 # percent\n",
    "MAKER_PAYMENT =            25 # percent\n",
    "RESERVE_PAYMENT =          100 - BACKEND_PAYMENT - MAKER_PAYMENT # 70%\n",
    "COST_PER_BYTE =            toWei(1e-8, 'ETH') # 1 ETH for 100MB\n",
    "\n",
    "CREATOR_BLOCK_SIZE =       toWei(1e4, 'CMT')\n",
    "CREATOR_INITIAL_SUPPORT =  toWei(100, 'ETH')"
   ]
  },
  {
   "cell_type": "markdown",
   "metadata": {},
   "source": [
    "Define market global variables and functions"
   ]
  },
  {
   "cell_type": "code",
   "execution_count": 3,
   "metadata": {},
   "outputs": [],
   "source": [
    "# Convert human readable floor to units used by market codebase\n",
    "PRICE_FLOOR = int(PRICE_FLOOR_HUMAN * 1e9) # wei per billion CMT-wei\n",
    "\n",
    "RESERVE = 0 # Initial reserve is empty\n",
    "MARKET_TOTAL = 0 # No Market tokens at start\n",
    "\n",
    "# Note units is ETH-wei per billion CMT-wei\n",
    "def get_support_price():\n",
    "    return PRICE_FLOOR + ((SPREAD * RESERVE * 1e9) // (100 * MARKET_TOTAL))\n",
    "\n",
    "# Human readable support price in ETH per CMT\n",
    "def get_human_support_price():\n",
    "    return get_support_price() / 1e9\n",
    "    \n",
    "def support(offer):\n",
    "    support_price = get_support_price()\n",
    "    MINTED = (offer // support_price) * 1e9 # note GWEI multiplier\n",
    "    MARKET_TOTAL += MINTED\n",
    "    RESERVE += offer\n",
    "    \n",
    "# differs from contracts in allowing a specified withdraw amount in\n",
    "# CMT wei units. This is to simplify simulation so that we don't\n",
    "# have to keep track of a coin table.\n",
    "def withdraw(amount):\n",
    "    withdraw_proceeds = (amount * RESERVE) // MARKET_TOTAL\n",
    "    MARKET_TOTAL = MARKET_TOTAL - amount\n",
    "    RESERVE = RESERVE - withdraw_proceeds\n",
    "    \n",
    "def log():\n",
    "    print(f\"{fromWei(MARKET_TOTAL, 'CMT')} CMT, {fromWei(RESERVE, 'ETH')} ETH\")\n",
    "    print(f\"support at {get_human_support_price()} ETH per CMT, withdraw at {RESERVE / MARKET_TOTAL} ETH per CMT\")"
   ]
  },
  {
   "cell_type": "markdown",
   "metadata": {},
   "source": [
    "Ok, now let's define the parameters that govern the current simulation."
   ]
  },
  {
   "cell_type": "code",
   "execution_count": 4,
   "metadata": {},
   "outputs": [],
   "source": [
    "CREATOR_SUPPORT = toWei(100, 'ETH')\n",
    "N_PATRONS = 10\n",
    "# Support each patron provides\n",
    "SUPPORT = toWei(1000, 'ETH')\n",
    "N_MAKERS = 1000\n",
    "# This is number of listings *per* maker\n",
    "N_LISTINGS_PER_MAKER = 100\n",
    "# Size of an individual data purchase in ETH\n",
    "PURCHASE_SIZE = toWei(1000, 'ETH')\n",
    "# Number of purchases\n",
    "N_PURCHASES = 90"
   ]
  },
  {
   "cell_type": "markdown",
   "metadata": {},
   "source": [
    "Let's have the market creator create the initial data market."
   ]
  },
  {
   "cell_type": "code",
   "execution_count": 5,
   "metadata": {},
   "outputs": [],
   "source": [
    "# Creator does their thing\n",
    "MARKET_TOTAL += CREATOR_BLOCK_SIZE\n",
    "# Creator deposits funds in reserve\n",
    "RESERVE += CREATOR_INITIAL_SUPPORT      "
   ]
  },
  {
   "cell_type": "code",
   "execution_count": 7,
   "metadata": {},
   "outputs": [
    {
     "name": "stdout",
     "output_type": "stream",
     "text": [
      "10000.0 CMT, 100.0 ETH\n",
      "support at 0.021 ETH per CMT, withdraw at 0.01 ETH per CMT\n"
     ]
    }
   ],
   "source": [
    "log()"
   ]
  },
  {
   "cell_type": "code",
   "execution_count": 8,
   "metadata": {},
   "outputs": [
    {
     "data": {
      "text/plain": [
       "0.021"
      ]
     },
     "execution_count": 8,
     "metadata": {},
     "output_type": "execute_result"
    }
   ],
   "source": [
    "get_human_support_price()"
   ]
  },
  {
   "cell_type": "code",
   "execution_count": 20,
   "metadata": {},
   "outputs": [
    {
     "data": {
      "text/plain": [
       "1e+22"
      ]
     },
     "execution_count": 20,
     "metadata": {},
     "output_type": "execute_result"
    }
   ],
   "source": []
  },
  {
   "cell_type": "code",
   "execution_count": 25,
   "metadata": {},
   "outputs": [
    {
     "data": {
      "text/plain": [
       "0.011000000000000001"
      ]
     },
     "execution_count": 25,
     "metadata": {},
     "output_type": "execute_result"
    }
   ],
   "source": [
    "x = ((SPREAD * RESERVE * 1e9) // (100 * MARKET_TOTAL))\n",
    "x = x * 1e-9\n",
    "x"
   ]
  },
  {
   "cell_type": "markdown",
   "metadata": {},
   "source": [
    "Let's introduce a data structure to keep track of the coin table."
   ]
  },
  {
   "cell_type": "code",
   "execution_count": 17,
   "metadata": {},
   "outputs": [],
   "source": [
    "coin_table = {}\n",
    "coin_table[\"CREATOR\"] = CREATOR_BLOCK_SIZE"
   ]
  }
 ],
 "metadata": {
  "kernelspec": {
   "display_name": "Python 3",
   "language": "python",
   "name": "python3"
  },
  "language_info": {
   "codemirror_mode": {
    "name": "ipython",
    "version": 3
   },
   "file_extension": ".py",
   "mimetype": "text/x-python",
   "name": "python",
   "nbconvert_exporter": "python",
   "pygments_lexer": "ipython3",
   "version": "3.7.2"
  }
 },
 "nbformat": 4,
 "nbformat_minor": 2
}
