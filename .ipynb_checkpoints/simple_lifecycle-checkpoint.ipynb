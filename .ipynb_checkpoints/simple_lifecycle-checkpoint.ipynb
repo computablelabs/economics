{
 "cells": [
  {
   "cell_type": "code",
   "execution_count": 8,
   "metadata": {},
   "outputs": [
    {
     "ename": "ModuleNotFoundError",
     "evalue": "No module named 'matplotlib'",
     "output_type": "error",
     "traceback": [
      "\u001b[0;31m---------------------------------------------------------------------------\u001b[0m",
      "\u001b[0;31mModuleNotFoundError\u001b[0m                       Traceback (most recent call last)",
      "\u001b[0;32m<ipython-input-8-cd5fd6dc1c52>\u001b[0m in \u001b[0;36m<module>\u001b[0;34m\u001b[0m\n\u001b[1;32m      1\u001b[0m \u001b[0;32mfrom\u001b[0m \u001b[0mhelpers\u001b[0m \u001b[0;32mimport\u001b[0m \u001b[0mtoWei\u001b[0m\u001b[0;34m,\u001b[0m \u001b[0mfromWei\u001b[0m\u001b[0;34m,\u001b[0m \u001b[0mMarket\u001b[0m\u001b[0;34m\u001b[0m\u001b[0;34m\u001b[0m\u001b[0m\n\u001b[1;32m      2\u001b[0m \u001b[0;34m\u001b[0m\u001b[0m\n\u001b[0;32m----> 3\u001b[0;31m \u001b[0;32mimport\u001b[0m \u001b[0mmatplotlib\u001b[0m\u001b[0;34m\u001b[0m\u001b[0;34m\u001b[0m\u001b[0m\n\u001b[0m\u001b[1;32m      4\u001b[0m \u001b[0;32mimport\u001b[0m \u001b[0mmatplotlib\u001b[0m\u001b[0;34m.\u001b[0m\u001b[0mpyplot\u001b[0m \u001b[0;32mas\u001b[0m \u001b[0mplt\u001b[0m\u001b[0;34m\u001b[0m\u001b[0;34m\u001b[0m\u001b[0m\n\u001b[1;32m      5\u001b[0m \u001b[0;32mimport\u001b[0m \u001b[0mnumpy\u001b[0m \u001b[0;32mas\u001b[0m \u001b[0mnp\u001b[0m\u001b[0;34m\u001b[0m\u001b[0;34m\u001b[0m\u001b[0m\n",
      "\u001b[0;31mModuleNotFoundError\u001b[0m: No module named 'matplotlib'"
     ]
    }
   ],
   "source": [
    "from helpers import toWei, fromWei, Market\n",
    "\n",
    "import matplotlib\n",
    "import matplotlib.pyplot as plt\n",
    "import numpy as np"
   ]
  },
  {
   "cell_type": "markdown",
   "metadata": {},
   "source": [
    "Here are the market parameters. The rest of the notebook is designed so that if you change these parameters, the rest of the notebook should execute correctly.\n",
    "\n",
    "For context, the Rinkeby faucet gives:\n",
    "- 3 Ether with 8 hour wait\n",
    "- ~19 Ether with a 3 day wait"
   ]
  },
  {
   "cell_type": "code",
   "execution_count": 2,
   "metadata": {},
   "outputs": [],
   "source": [
    "params = {\n",
    "    'price_floor_human':    1e-9, # ETH per CMT\n",
    "    'spread':               200,\n",
    "    'list_reward':          toWei(1, 'CMT'),\n",
    "    'stake':                toWei(10, 'CMT'),\n",
    "    'backend_payment':      5, # percent\n",
    "    'maker_payment':        25, # percent\n",
    "    # reserve payment:      100 - backend_payment - maker_payment\n",
    "    'cost_per_byte':        toWei(1e-8, 'ETH'), # 1 ETH for 100MB\n",
    "}\n",
    "\n",
    "CREATOR_BLOCK_SIZE =       toWei(10000, 'CMT')\n",
    "CREATOR_INITIAL_SUPPORT =  toWei(200, 'ETH')"
   ]
  },
  {
   "cell_type": "markdown",
   "metadata": {},
   "source": [
    "Create market and initialize"
   ]
  },
  {
   "cell_type": "code",
   "execution_count": 6,
   "metadata": {},
   "outputs": [],
   "source": [
    "# Convert human readable floor to units used by market codebase\n",
    "params['price_floor'] = int(params['price_floor_human'] * 1e9) # wei per billion CMT-wei\n",
    "params['reserve_payment'] = 100 - params['backend_payment'] - params['maker_payment']\n",
    "\n",
    "m = Market(params)\n",
    "\n",
    "m.market_total += CREATOR_BLOCK_SIZE\n",
    "m.reserve += CREATOR_INITIAL_SUPPORT "
   ]
  },
  {
   "cell_type": "markdown",
   "metadata": {},
   "source": [
    "Let's run a simple scenario"
   ]
  },
  {
   "cell_type": "code",
   "execution_count": 7,
   "metadata": {},
   "outputs": [
    {
     "name": "stdout",
     "output_type": "stream",
     "text": [
      "10000.0 CMT\n",
      "200.0 ETH\n",
      "Support at 0.04 ETH per CMT\n",
      "Withdraw at 0.02 ETH per CMT\n",
      "\n",
      "12250.0 CMT\n",
      "300.0 ETH\n",
      "Support at 0.049 ETH per CMT\n",
      "Withdraw at 0.0245 ETH per CMT\n",
      "\n"
     ]
    }
   ],
   "source": [
    "m.log()\n",
    "for i in range(100):\n",
    "    m.support(1.0)\n",
    "\n",
    "m.log()\n",
    "# for i in range(510):\n",
    "#     m.withdraw(10)\n",
    "# m.log()"
   ]
  },
  {
   "cell_type": "code",
   "execution_count": null,
   "metadata": {},
   "outputs": [],
   "source": [
    "fig, ax = plt.subplots()\n",
    "\n",
    "xs = np.arange(0, 2.0, 0.01)\n",
    "s = 1 + np.sin(2 * np.pi * t)\n",
    "ax.plot(t, s)\n",
    "\n",
    "ax.set(xlabel='time (s)', ylabel='voltage (mV)',\n",
    "       title='About as simple as it gets, folks')\n",
    "ax.grid()\n",
    "\n",
    "fig.savefig(\"test.png\")\n",
    "plt.show()"
   ]
  }
 ],
 "metadata": {
  "kernelspec": {
   "display_name": "Python 3",
   "language": "python",
   "name": "python3"
  },
  "language_info": {
   "codemirror_mode": {
    "name": "ipython",
    "version": 3
   },
   "file_extension": ".py",
   "mimetype": "text/x-python",
   "name": "python",
   "nbconvert_exporter": "python",
   "pygments_lexer": "ipython3",
   "version": "3.7.2"
  }
 },
 "nbformat": 4,
 "nbformat_minor": 2
}
