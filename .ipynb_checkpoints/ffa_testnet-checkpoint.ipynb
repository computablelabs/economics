{
 "cells": [
  {
   "cell_type": "code",
   "execution_count": 2,
   "metadata": {},
   "outputs": [],
   "source": [
    "unitMap = {\n",
    "    'wei':          1,\n",
    "    'mwei':         1000000,\n",
    "    'gwei':         1000000000,\n",
    "    'szabo':        1000000000000,\n",
    "    'finney':       1000000000000000,\n",
    "    'ether':        1000000000000000000\n",
    "}\n",
    "\n",
    "def toWei(x, units):\n",
    "    return x * unitMap[units]\n",
    "\n",
    "def fromWei(x, units):\n",
    "    return x / unitMap[units]\n",
    "\n",
    "wei_params = ['price_floor', 'list_reward', 'stake', 'cost_per_byte']"
   ]
  },
  {
   "cell_type": "code",
   "execution_count": 3,
   "metadata": {},
   "outputs": [],
   "source": [
    "params = {\n",
    "    'price_floor': toWei(1, 'mwei'),\n",
    "    'spread': 110,\n",
    "    'list_reward': toWei(250, 'szabo'),\n",
    "    'stake': toWei(10, 'finney'),\n",
    "    'vote_by': 300,\n",
    "    'plurality': 50,\n",
    "    'backend_payment': 30,\n",
    "    'maker_payment': 30,\n",
    "    'cost_per_byte': toWei(100, 'gwei')\n",
    "}"
   ]
  },
  {
   "cell_type": "code",
   "execution_count": 4,
   "metadata": {},
   "outputs": [
    {
     "data": {
      "text/plain": [
       "1000000.0"
      ]
     },
     "execution_count": 4,
     "metadata": {},
     "output_type": "execute_result"
    }
   ],
   "source": [
    "toWei(.001, 'gwei')"
   ]
  },
  {
   "cell_type": "code",
   "execution_count": 7,
   "metadata": {},
   "outputs": [
    {
     "data": {
      "text/plain": [
       "True"
      ]
     },
     "execution_count": 7,
     "metadata": {},
     "output_type": "execute_result"
    }
   ],
   "source": [
    "toWei(1, 'mwei') == toWei(.001, 'gwei')"
   ]
  },
  {
   "cell_type": "code",
   "execution_count": 3,
   "metadata": {},
   "outputs": [
    {
     "data": {
      "text/plain": [
       "{'price_floor': 1e-12,\n",
       " 'spread': 110,\n",
       " 'list_reward': 0.00025,\n",
       " 'stake': 0.01,\n",
       " 'vote_by': 300,\n",
       " 'plurality': 50,\n",
       " 'backend_payment': 30,\n",
       " 'maker_payment': 30,\n",
       " 'cost_per_byte': 1e-07}"
      ]
     },
     "execution_count": 3,
     "metadata": {},
     "output_type": "execute_result"
    }
   ],
   "source": [
    "for p in wei_params:\n",
    "    params[p] = fromWei(params[p], 'ether')\n",
    "    \n",
    "params"
   ]
  }
 ],
 "metadata": {
  "kernelspec": {
   "display_name": "Python 3",
   "language": "python",
   "name": "python3"
  },
  "language_info": {
   "codemirror_mode": {
    "name": "ipython",
    "version": 3
   },
   "file_extension": ".py",
   "mimetype": "text/x-python",
   "name": "python",
   "nbconvert_exporter": "python",
   "pygments_lexer": "ipython3",
   "version": "3.7.2"
  }
 },
 "nbformat": 4,
 "nbformat_minor": 2
}
