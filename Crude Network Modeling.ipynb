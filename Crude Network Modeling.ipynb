{
 "cells": [
  {
   "cell_type": "markdown",
   "metadata": {},
   "source": [
    "In this notebook, I'll try to model out some understanding of a network structure. The supporter modeling notebook suggests that a market might have a sigmoidal response to increased patron funds. In this notebook, we'll try to understand how a ecosystem of data markets might benefit from the presence of a funding DAO at the network level. Let's start by introducing some simulation parameters."
   ]
  },
  {
   "cell_type": "code",
   "execution_count": 1,
   "metadata": {},
   "outputs": [],
   "source": [
    "# Let's assume there are some number of markets created\n",
    "NUM_MARKETS = 10\n",
    "# Let's say that each market has a cap\n",
    "# Note we're not using WHOLE. This makes numerical stability much nicer....\n",
    "MARKET_CAP = 100000\n",
    "# The number of patrons supporting the ecosystem\n",
    "NUM_PATRONS = 1000\n",
    "# The size of an average support\n",
    "SUPPORT_SIZE = 500\n",
    "# This is the point at which a market growth starts to saturate and further support becomes less helpful\n",
    "MARKET_SATURATION = 10000 # in ETH\n",
    "\n",
    "## The patronage parameters\n",
    "# Let's assume that each patron has a small chance of supporting a given market\n",
    "PROB_ONE_MARKET_SUPPORT = .02\n",
    "# Let's model in some market risk by assuming that each market has a chance of failing\n",
    "PROB_ONE_MARKET_FAIL = .0\n",
    "\n",
    "## The index fund parameters\n",
    "# Probability a patron supports the index fund\n",
    "PROB_INDEX_FUND = .10"
   ]
  },
  {
   "cell_type": "markdown",
   "metadata": {},
   "source": [
    "We're modeling an ecosystem with `NUM_MARKETS` different data markets, each of which is assumed to have a possible size of `MARKET_CAP`. It's important to note this is a critical assumption of the current simulation. It's pretty nontrivial to bootstrap a lively market right now, so this simulation notebook is looking pretty far ahead. With that note our of the way, let's see what we can learn. We're going to assume that a market's response curve to patron funds is given by\n",
    "\n",
    "$y = \\text{MARKET_CAP} \\cdot \\text{sigmoid}(x / \\text{MARKET_SATURATION}) - (\\text{MARKET_CAP}/2)$\n",
    "\n",
    "Let's use this simple equation to create a mathematical model of the size of a market ecosystem."
   ]
  },
  {
   "cell_type": "code",
   "execution_count": 8,
   "metadata": {},
   "outputs": [],
   "source": [
    "import numpy as np\n",
    "from scipy.special import expit\n",
    "\n",
    "# Define the response\n",
    "# https://docs.scipy.org/doc/scipy-0.14.0/reference/generated/scipy.special.expit.html\n",
    "# expit is numerically stable which makes the simulations much nicer.\n",
    "def get_market_size(funds):\n",
    "    return MARKET_CAP * expit(funds / MARKET_SATURATION) - (MARKET_CAP / 2)"
   ]
  },
  {
   "cell_type": "markdown",
   "metadata": {},
   "source": [
    "Let's build some basic understanding of the dynamics of this function by plotting it."
   ]
  },
  {
   "cell_type": "code",
   "execution_count": 9,
   "metadata": {},
   "outputs": [
    {
     "data": {
      "text/plain": [
       "[<matplotlib.lines.Line2D at 0x7fd264271fd0>]"
      ]
     },
     "execution_count": 9,
     "metadata": {},
     "output_type": "execute_result"
    },
    {
     "data": {
      "image/png": "[encoded data removed]",
      "text/plain": [
       "<Figure size 432x288 with 1 Axes>"
      ]
     },
     "metadata": {},
     "output_type": "display_data"
    }
   ],
   "source": [
    "import matplotlib.pyplot as plt\n",
    "\n",
    "funding_levels = [1000 * i for i in range(2 * MARKET_SATURATION // 1000)]\n",
    "market_sizes = [get_market_size(funding_level) for funding_level in funding_levels]\n",
    "plt.title(\"Market Size Growth with Increased Patron Support\")\n",
    "plt.xlabel(\"Market Support\")\n",
    "plt.ylabel(\"Market Size\")\n",
    "plt.plot(funding_levels, market_sizes)"
   ]
  },
  {
   "cell_type": "code",
   "execution_count": 4,
   "metadata": {},
   "outputs": [
    {
     "name": "stdout",
     "output_type": "stream",
     "text": [
      "Average market support: 9997.500000\n",
      "Average market size: 22847.356127\n",
      "Average Network Size across reps: 228473.561270\n",
      "Standard deviation: 12442.880628\n"
     ]
    }
   ],
   "source": [
    "NUM_REPS = 20\n",
    "def run_basic_simulation():\n",
    "    total_market_cap = 0\n",
    "    total_market_size = 0\n",
    "    market_supports = []\n",
    "    market_sizes = []\n",
    "\n",
    "    for i in range(NUM_MARKETS):\n",
    "        market_support = 0\n",
    "        for j in range(NUM_PATRONS):\n",
    "            u = np.random.uniform()\n",
    "            if u < PROB_ONE_MARKET_SUPPORT:\n",
    "                market_support += SUPPORT_SIZE\n",
    "        market_supports.append(market_support)\n",
    "        # Now check if the market fails\n",
    "        f = np.random.uniform()\n",
    "        if f < PROB_ONE_MARKET_FAIL:\n",
    "            market_size = 0\n",
    "        else:\n",
    "            market_size = get_market_size(market_support)\n",
    "        market_sizes.append(market_size)\n",
    "        total_market_size += market_size\n",
    "    avg_market_support = np.mean(np.array(market_supports))\n",
    "    avg_market_size = np.mean(np.array(market_sizes))\n",
    "    return avg_market_support, avg_market_size, total_market_size\n",
    "\n",
    "network_sizes = []\n",
    "avg_market_supports = []\n",
    "avg_market_sizes = []\n",
    "for rep in range(NUM_REPS):\n",
    "    avg_market_support, avg_market_size, total_market_size = run_basic_simulation()\n",
    "    network_sizes.append(total_market_size)\n",
    "    avg_market_supports.append(avg_market_support)\n",
    "    avg_market_sizes.append(avg_market_size)\n",
    "\n",
    "avg_market_size = np.mean(np.array(network_sizes))\n",
    "std_deviation = np.std(np.array(network_sizes))\n",
    "print(\"Average market support: %f\" % np.mean(np.array(avg_market_supports)))\n",
    "print(\"Average market size: %f\" % np.mean(np.array(avg_market_sizes)))\n",
    "print(\"Average Network Size across reps: %f\" % avg_market_size)\n",
    "print(\"Standard deviation: %f\" % std_deviation)\n",
    "basic_avg_network_size = avg_market_size"
   ]
  },
  {
   "cell_type": "markdown",
   "metadata": {},
   "source": [
    "Now let's assume a simple network structure. There exists a DAO which acts as an \"index fund\" of datasets. The simulation structure is the same as above, but we'll assume that there's a probability the patron chooses to support the index fund."
   ]
  },
  {
   "cell_type": "code",
   "execution_count": 5,
   "metadata": {},
   "outputs": [
    {
     "name": "stdout",
     "output_type": "stream",
     "text": [
      "Total Index Fund Size: 46000\n"
     ]
    }
   ],
   "source": [
    "\n",
    "# Let's find the size of the index fund\n",
    "total_index_fund_size = 0\n",
    "for j in range(NUM_PATRONS):\n",
    "    u = np.random.uniform()\n",
    "    if u < PROB_INDEX_FUND:\n",
    "        total_index_fund_size += SUPPORT_SIZE\n",
    "print(\"Total Index Fund Size: %d\" % total_index_fund_size)"
   ]
  },
  {
   "cell_type": "markdown",
   "metadata": {},
   "source": [
    "Let's say that this index fund's sole purpose is to support the community, so it takes its total funds and splits it across all markets. Let's add this on top of the existing support code as above to see what the benefit is."
   ]
  },
  {
   "cell_type": "code",
   "execution_count": 6,
   "metadata": {},
   "outputs": [
    {
     "name": "stdout",
     "output_type": "stream",
     "text": [
      "Average market support: 14762.500000\n",
      "Average market size: 31184.922756\n",
      "Average Network Size across reps: 311849.227564\n",
      "Standard deviation: 11845.915982\n"
     ]
    }
   ],
   "source": [
    "NUM_REPS = 20\n",
    "\n",
    "def run_index_fund_simulation():\n",
    "    total_market_cap = 0\n",
    "    total_market_size = 0\n",
    "    index_fund_support = total_index_fund_size / NUM_MARKETS\n",
    "    market_supports = []\n",
    "    market_sizes = []\n",
    "\n",
    "    for i in range(NUM_MARKETS):\n",
    "        market_support = 0\n",
    "        for j in range(NUM_PATRONS):\n",
    "            u = np.random.uniform()\n",
    "            if u < PROB_ONE_MARKET_SUPPORT:\n",
    "                market_support += SUPPORT_SIZE\n",
    "        market_support += index_fund_support\n",
    "        market_supports.append(market_support)\n",
    "        # Now check if the market fails\n",
    "        f = np.random.uniform()\n",
    "        if f < PROB_ONE_MARKET_FAIL:\n",
    "            market_size = 0\n",
    "        else:\n",
    "            market_size = get_market_size(market_support)\n",
    "        market_sizes.append(market_size)\n",
    "        total_market_size += market_size\n",
    "    avg_market_support = np.mean(np.array(market_supports))\n",
    "    avg_market_size = np.mean(np.array(market_sizes))\n",
    "    return avg_market_support, avg_market_size, total_market_size\n",
    "\n",
    "network_sizes = []\n",
    "avg_market_supports = []\n",
    "avg_market_sizes = []\n",
    "for rep in range(NUM_REPS):\n",
    "    avg_market_support, avg_market_size, total_market_size = run_index_fund_simulation()\n",
    "    avg_market_supports.append(avg_market_support)\n",
    "    avg_market_sizes.append(avg_market_size)\n",
    "    network_sizes.append(total_market_size)\n",
    "avg_market_size = np.mean(np.array(network_sizes))\n",
    "std_deviation = np.std(np.array(network_sizes))\n",
    "print(\"Average market support: %f\" % np.mean(np.array(avg_market_supports)))\n",
    "print(\"Average market size: %f\" % np.mean(np.array(avg_market_sizes)))\n",
    "print(\"Average Network Size across reps: %f\" % avg_market_size)\n",
    "print(\"Standard deviation: %f\" % std_deviation)\n",
    "index_avg_network_size = avg_market_size"
   ]
  },
  {
   "cell_type": "markdown",
   "metadata": {},
   "source": [
    "This crude analysis suggests that the presence of a network-wide index fund allows for a some boost in the total network outcome."
   ]
  },
  {
   "cell_type": "code",
   "execution_count": 13,
   "metadata": {},
   "outputs": [
    {
     "name": "stdout",
     "output_type": "stream",
     "text": [
      "Basic Network Size: 228473.56\n",
      "Total size index fund: 46000.00\n",
      "Index Network Size: 311849.23\n",
      "Index Effect: 83375.67\n",
      "Index Return Percent: 81.251448%\n"
     ]
    }
   ],
   "source": [
    "print(\"Basic Network Size: %.2f\" % basic_avg_network_size)\n",
    "print(\"Total size index fund: %.2f\" % total_index_fund_size)\n",
    "print(\"Index Network Size: %.2f\" % index_avg_network_size)\n",
    "print(\"Index Effect: %.2f\" % (index_avg_network_size - basic_avg_network_size))\n",
    "\n",
    "index_return = ((index_avg_network_size - basic_avg_network_size) / total_index_fund_size - 1) * 100\n",
    "print(\"Index Return Percent: %f%%\" % index_return)"
   ]
  },
  {
   "cell_type": "markdown",
   "metadata": {},
   "source": [
    "Note that this model only provides returns because the markets are in the middle of their growth phase so the presence of the index fund makes a noticeable difference in their outcomes. In general, the index fund would need some intelligence to understand "
   ]
  }
 ],
 "metadata": {
  "kernelspec": {
   "display_name": "Python 3",
   "language": "python",
   "name": "python3"
  },
  "language_info": {
   "codemirror_mode": {
    "name": "ipython",
    "version": 3
   },
   "file_extension": ".py",
   "mimetype": "text/x-python",
   "name": "python",
   "nbconvert_exporter": "python",
   "pygments_lexer": "ipython3",
   "version": "3.5.5"
  }
 },
 "nbformat": 4,
 "nbformat_minor": 2
}
