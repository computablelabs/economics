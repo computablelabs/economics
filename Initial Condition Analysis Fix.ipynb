{
 "cells": [
  {
   "cell_type": "markdown",
   "metadata": {},
   "source": [
    "This analysis confirms a bug that showed up in private testnet testing. One of the branches of `getSupportPrice()` has a bug that bricks the market if triggered."
   ]
  },
  {
   "cell_type": "code",
   "execution_count": 1,
   "metadata": {},
   "outputs": [],
   "source": [
    "WEI = 1\n",
    "GWEI = 10**9\n",
    "WHOLE = 10**18\n",
    "\n",
    "def wei_to_whole(amount):\n",
    "    return amount // 10**18\n",
    "\n",
    "def gwei_to_whole(amount):\n",
    "    return amount // 10**9\n",
    "\n",
    "def gwei_to_wei(amount):\n",
    "    return amount * 10**9\n",
    "\n",
    "def wei_to_gwei(amount):\n",
    "    return amount // 10**9\n",
    "\n",
    "def convert_support_price(price):\n",
    "    \"\"\"Support price is ETH wei / MKT gwei. Convert to ETH whole / MKT whole\"\"\"\n",
    "    if price >= 10**9:\n",
    "        # ETH gwei / MKT gwei\n",
    "        price_gwei_to_gwei = wei_to_gwei(price)\n",
    "        # Note units cancel\n",
    "        price_whole_to_whole = price_gwei_to_gwei\n",
    "        return price_whole_to_whole\n",
    "    else:\n",
    "        # price is less than 1 gwei ETH to purchase 1 gwei MKT\n",
    "        num_gwei_purchased = WHOLE // price\n",
    "        num_mkt_purchased = num_gwei_purchased // 10**9\n",
    "        return 1.0 / num_mkt_purchased"
   ]
  },
  {
   "cell_type": "code",
   "execution_count": 2,
   "metadata": {},
   "outputs": [],
   "source": [
    "PRICE_FLOOR = int(.001 * GWEI)\n",
    "SPREAD = 110 # 10 %\n",
    "LIST_REWARD = .000025 * WHOLE # MKT\n",
    "STAKE = .01 * WHOLE # MKT\n",
    "VOTE_BY = 7 # Days. Are units right?\n",
    "BACKEND_PAYMENT = 5\n",
    "MAKER_PAYMENT = 25\n",
    "RESERVE_PAYMENT = 100 - BACKEND_PAYMENT - MAKER_PAYMENT\n",
    "COST_PER_BYTE = 100 * GWEI # ETH"
   ]
  },
  {
   "cell_type": "markdown",
   "metadata": {},
   "source": [
    "Here we have the creator block set to 0."
   ]
  },
  {
   "cell_type": "code",
   "execution_count": 3,
   "metadata": {},
   "outputs": [],
   "source": [
    "# Initial creator transfer into reserve\n",
    "CREATOR_SUPPORT = 0 * WHOLE # ETH\n",
    "# Creator does their thing\n",
    "CREATOR_BLOCK_SIZE = int(1 * WHOLE) # MKT"
   ]
  },
  {
   "cell_type": "code",
   "execution_count": 4,
   "metadata": {},
   "outputs": [],
   "source": [
    "N_PATRONS = 10\n",
    "# Support each patron provides\n",
    "SUPPORT = 1000 * WHOLE # ETH\n",
    "N_MAKERS = 1000\n",
    "# This is number of listings *per* maker\n",
    "N_LISTINGS_PER_MAKER = 100\n",
    "# Size of an individual data purchase in ETH\n",
    "PURCHASE_SIZE = 1000 * WHOLE # ETH\n",
    "# Number of purchases\n",
    "N_PURCHASES = 90"
   ]
  },
  {
   "cell_type": "code",
   "execution_count": 5,
   "metadata": {},
   "outputs": [
    {
     "name": "stdout",
     "output_type": "stream",
     "text": [
      "MARKET_TOTAL: 1, RESERVE: 0\n"
     ]
    }
   ],
   "source": [
    "RESERVE = 0 # Initial reserve is empty\n",
    "MARKET_TOTAL = 0 # No Market tokens at start\n",
    "\n",
    "MARKET_TOTAL += CREATOR_BLOCK_SIZE\n",
    "# Creator deposits funds in reserve\n",
    "RESERVE += CREATOR_SUPPORT\n",
    "print(\"MARKET_TOTAL: %d, RESERVE: %d\" % (wei_to_whole(MARKET_TOTAL), wei_to_whole(RESERVE)))"
   ]
  },
  {
   "cell_type": "code",
   "execution_count": 6,
   "metadata": {},
   "outputs": [],
   "source": [
    "coin_table = {}\n",
    "# We're just going to use whole units for convenience\n",
    "coin_table[\"CREATOR\"] = CREATOR_BLOCK_SIZE / 10**18"
   ]
  },
  {
   "cell_type": "code",
   "execution_count": 7,
   "metadata": {},
   "outputs": [
    {
     "name": "stdout",
     "output_type": "stream",
     "text": [
      "SUPPORT: 1000\n",
      "Patron 1 supports\n",
      "PRICE_FLOOR: 1000000\n",
      "RAW SUPPORT_PRICE: 1000000\n",
      "SUPPORT_PRICE (ETH whole for MKT whole): 0.001000\n",
      "MINTED: 1000000.000000\n",
      "Patron 2 supports\n",
      "PRICE_FLOOR: 1000000\n",
      "RAW SUPPORT_PRICE: 2099998\n",
      "SUPPORT_PRICE (ETH whole for MKT whole): 0.002101\n",
      "MINTED: 476190.929706\n",
      "Patron 3 supports\n",
      "PRICE_FLOOR: 1000000\n",
      "RAW SUPPORT_PRICE: 2490321\n",
      "SUPPORT_PRICE (ETH whole for MKT whole): 0.002494\n",
      "MINTED: 401554.659018\n",
      "Patron 4 supports\n",
      "PRICE_FLOOR: 1000000\n",
      "RAW SUPPORT_PRICE: 2757425\n",
      "SUPPORT_PRICE (ETH whole for MKT whole): 0.002762\n",
      "MINTED: 362657.189225\n",
      "Patron 5 supports\n",
      "PRICE_FLOOR: 1000000\n",
      "RAW SUPPORT_PRICE: 2963931\n",
      "SUPPORT_PRICE (ETH whole for MKT whole): 0.002967\n",
      "MINTED: 337389.770545\n",
      "Patron 6 supports\n",
      "PRICE_FLOOR: 1000000\n",
      "RAW SUPPORT_PRICE: 3133607\n",
      "SUPPORT_PRICE (ETH whole for MKT whole): 0.003135\n",
      "MINTED: 319121.064001\n",
      "Patron 7 supports\n",
      "PRICE_FLOOR: 1000000\n",
      "RAW SUPPORT_PRICE: 3278285\n",
      "SUPPORT_PRICE (ETH whole for MKT whole): 0.003279\n",
      "MINTED: 305037.542496\n",
      "Patron 8 supports\n",
      "PRICE_FLOOR: 1000000\n",
      "RAW SUPPORT_PRICE: 3404782\n",
      "SUPPORT_PRICE (ETH whole for MKT whole): 0.003413\n",
      "MINTED: 293704.560233\n",
      "Patron 9 supports\n",
      "PRICE_FLOOR: 1000000\n",
      "RAW SUPPORT_PRICE: 3517409\n",
      "SUPPORT_PRICE (ETH whole for MKT whole): 0.003521\n",
      "MINTED: 284300.176636\n",
      "Patron 10 supports\n",
      "PRICE_FLOOR: 1000000\n",
      "RAW SUPPORT_PRICE: 3619077\n",
      "SUPPORT_PRICE (ETH whole for MKT whole): 0.003623\n",
      "MINTED: 276313.546244\n",
      "############################\n",
      "MARKET_TOTAL: 4056270.438103\n",
      "RESERVE: 10000.000000\n",
      "coin_table\n",
      "{'PATRON_10': 276313.546243973, 'PATRON_3': 401554.659017853, 'PATRON_6': 319121.064000686, 'PATRON_1': 1000000.0, 'PATRON_8': 293704.560233224, 'PATRON_7': 305037.542495542, 'PATRON_4': 362657.189225454, 'PATRON_5': 337389.77054459, 'PATRON_2': 476190.929705647, 'PATRON_9': 284300.176635699, 'CREATOR': 1.0}\n"
     ]
    }
   ],
   "source": [
    "print(\"SUPPORT: %d\" % wei_to_whole(SUPPORT))\n",
    "for i in range(N_PATRONS):\n",
    "    print(\"Patron %d supports\" % (i+1))\n",
    "    if MARKET_TOTAL < 1 * WHOLE:\n",
    "        SUPPORT_PRICE = PRICE_FLOOR + ((SPREAD * RESERVE * GWEI) // (100 * 1 * WHOLE))\n",
    "    else:\n",
    "        SUPPORT_PRICE = PRICE_FLOOR + ((SPREAD * RESERVE * GWEI) // (100 * MARKET_TOTAL))\n",
    "    print(\"PRICE_FLOOR: %d\" % PRICE_FLOOR)\n",
    "    print(\"RAW SUPPORT_PRICE: %d\" % SUPPORT_PRICE)\n",
    "    print(\"SUPPORT_PRICE (ETH whole for MKT whole): %f\" % convert_support_price(SUPPORT_PRICE))\n",
    "    MINTED = (SUPPORT // SUPPORT_PRICE) * GWEI # Units of WEI\n",
    "    print(\"MINTED: %f\" % (MINTED / 10**18))\n",
    "    MARKET_TOTAL += MINTED\n",
    "    RESERVE += SUPPORT\n",
    "    coin_table[\"PATRON_%d\" % (i+1)] = MINTED / 10**18\n",
    "\n",
    "print(\"############################\")\n",
    "print(\"MARKET_TOTAL: %f\" % (MARKET_TOTAL / 10**18))\n",
    "print(\"RESERVE: %f\" % (RESERVE / 10**18))\n",
    "print(\"coin_table\")\n",
    "print(coin_table)"
   ]
  }
 ],
 "metadata": {
  "kernelspec": {
   "display_name": "Python 3",
   "language": "python",
   "name": "python3"
  },
  "language_info": {
   "codemirror_mode": {
    "name": "ipython",
    "version": 3
   },
   "file_extension": ".py",
   "mimetype": "text/x-python",
   "name": "python",
   "nbconvert_exporter": "python",
   "pygments_lexer": "ipython3",
   "version": "3.5.5"
  }
 },
 "nbformat": 4,
 "nbformat_minor": 2
}
